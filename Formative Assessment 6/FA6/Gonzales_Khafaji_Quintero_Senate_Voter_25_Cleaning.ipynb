{
 "cells": [
  {
   "cell_type": "code",
   "execution_count": 1,
   "id": "initial_id",
   "metadata": {
    "collapsed": true,
    "ExecuteTime": {
     "end_time": "2025-07-10T17:44:41.639086900Z",
     "start_time": "2025-07-10T17:44:41.380839500Z"
    }
   },
   "outputs": [],
   "source": [
    "import polars as pl\n",
    "import polars.selectors as cs"
   ]
  },
  {
   "cell_type": "code",
   "execution_count": 10,
   "outputs": [
    {
     "data": {
      "text/plain": "shape: (5, 78)\n┌──────────┬───────────┬───────────┬───────────┬───┬───────────┬───────────┬───────────┬───────────┐\n│ region   ┆ province  ┆ municipal ┆ barangay  ┆ … ┆ 63.       ┆ 64.       ┆ 65.       ┆ 66.       │\n│ ---      ┆ ---       ┆ ity       ┆ ---       ┆   ┆ TULFO,    ┆ VALBUENA, ┆ VERCELES, ┆ VILLAR,   │\n│ str      ┆ str       ┆ ---       ┆ str       ┆   ┆ ERWIN     ┆ MAR       ┆ LEANDRO   ┆ CAMILLE   │\n│          ┆           ┆ str       ┆           ┆   ┆ (LAKAS)   ┆ MANIBELA  ┆ (IND)     ┆ (NP)      │\n│          ┆           ┆           ┆           ┆   ┆ ---       ┆ (IN…      ┆ ---       ┆ ---       │\n│          ┆           ┆           ┆           ┆   ┆ i64       ┆ ---       ┆ i64       ┆ i64       │\n│          ┆           ┆           ┆           ┆   ┆           ┆ i64       ┆           ┆           │\n╞══════════╪═══════════╪═══════════╪═══════════╪═══╪═══════════╪═══════════╪═══════════╪═══════════╡\n│ REGION I ┆ PANGASINA ┆ CALASIAO  ┆ NALSIAN   ┆ … ┆ 194       ┆ 7         ┆ 6         ┆ 110       │\n│          ┆ N         ┆           ┆           ┆   ┆           ┆           ┆           ┆           │\n│ REGION I ┆ PANGASINA ┆ CALASIAO  ┆ TALIBAEW  ┆ … ┆ 251       ┆ 4         ┆ 3         ┆ 179       │\n│          ┆ N         ┆           ┆           ┆   ┆           ┆           ┆           ┆           │\n│ REGION I ┆ PANGASINA ┆ BINMALEY  ┆ LINOC     ┆ … ┆ 315       ┆ 6         ┆ 6         ┆ 190       │\n│          ┆ N         ┆           ┆           ┆   ┆           ┆           ┆           ┆           │\n│ REGION I ┆ PANGASINA ┆ BINALONAN ┆ STA.      ┆ … ┆ 163       ┆ 1         ┆ 0         ┆ 176       │\n│          ┆ N         ┆           ┆ CATALINA  ┆   ┆           ┆           ┆           ┆           │\n│ REGION I ┆ PANGASINA ┆ BAYAMBANG ┆ TAMPOG    ┆ … ┆ 333       ┆ 9         ┆ 5         ┆ 239       │\n│          ┆ N         ┆           ┆           ┆   ┆           ┆           ┆           ┆           │\n└──────────┴───────────┴───────────┴───────────┴───┴───────────┴───────────┴───────────┴───────────┘",
      "text/html": "<div><style>\n.dataframe > thead > tr,\n.dataframe > tbody > tr {\n  text-align: right;\n  white-space: pre-wrap;\n}\n</style>\n<small>shape: (5, 78)</small><table border=\"1\" class=\"dataframe\"><thead><tr><th>region</th><th>province</th><th>municipality</th><th>barangay</th><th>machineId</th><th>registeredVoters</th><th>actualVoters</th><th>validBallot</th><th>overVotes</th><th>underVotes</th><th>validVotes</th><th>obtainedVotes</th><th>1. ABALOS, BENHUR (PFP)</th><th>2. ADONIS, JEROME (MKBYN)</th><th>3. AMAD, WILSON (IND)</th><th>4. ANDAMO, NARS ALYN (MKBYN)</th><th>5. AQUINO, BAM (KNP)</th><th>6. ARAMBULO, RONNEL (MKBYN)</th><th>7. ARELLANO, ERNESTO (KTPNAN)</th><th>8. BALLON, ROBERTO (IND)</th><th>9. BINAY, ABBY (NPC)</th><th>10. BONDOC, JIMMY (PDPLBN)</th><th>11. BONG REVILLA,RAMON, JR.(LAKAS)</th><th>12. BOSITA, COLONEL (IND)</th><th>13. BROSAS, ARLENE (MKBYN)</th><th>14. CABONEGRO, ROY (DPP)</th><th>15. CAPUYAN, ALLEN (PPP)</th><th>16. CASIÑO, TEDDY (MKBYN)</th><th>17. CASTRO, TEACHER FRANCE (MKBYN)</th><th>18. CAYETANO, PIA (NP)</th><th>19. D&#x27;ANGELO, DAVID (BUNYOG)</th><th>20. DE ALBAN,ATTORNEY ANGELO (IND)</th><th>21. DE GUZMAN, KA LEODY (PLM)</th><th>22. DELA ROSA, BATO (PDPLBN)</th><th>23. DORINGO, NANAY MIMI (MKBYN)</th><th>24. ESCOBAL, ARNEL (PM)</th><th>25. ESPIRITU, LUKE (PLM)</th><th>&hellip;</th><th>30. HINLO, JAYVEE (PDPLBN)</th><th>31. HONASAN, GRINGO (RP)</th><th>32. JOSE, RELLY JR. (KBL)</th><th>33. LACSON, PING (IND)</th><th>34. LAMBINO,  RAUL  (PDPLBN)</th><th>35. LAPID, LITO (NPC)</th><th>36. LEE, MANOY WILBERT (AKSYON)</th><th>37. LIDASAN, AMIRAH (MKBYN)</th><th>38. MARCOLETA, RODANTE (IND)</th><th>39. MARCOS, IMEE R. (NP)</th><th>40. MARQUEZ, NORMAN (IND)</th><th>41. MARTINEZ, ERIC (IND)</th><th>42. MATA, DOC MARITES (IND)</th><th>43. MATULA,  ATTY.  SONNY (WPP)</th><th>44. MAZA, LIZA (MKBYN)</th><th>45. MENDOZA, HEIDI (IND)</th><th>46. MONTEMAYOR,  JOEY  (IND)</th><th>47. MUSTAPHA, SUBAIR (WPP)</th><th>48. OLIVAR, JOSE JESSIE (IND)</th><th>49. ONG, DOC WILLIE (AKSYON)</th><th>50. PACQUIAO, MANNY PACMAN (PFP)</th><th>51. PANGILINAN, KIKO (LP)</th><th>52. QUERUBIN,  ARIEL PORFIRIO (NP)</th><th>53. QUIBOLOY, APOLLO (IND)</th><th>54. RAMOS, DANILO (MKBYN)</th><th>55. REVILLAME, WILLIE WIL (IND)</th><th>56. RODRIGUEZ, ATTY. VIC (IND)</th><th>57. SAHIDULLA, NUR-ANA (IND)</th><th>58. SALVADOR, PHILLIP IPE (PDPLBN)</th><th>59. SOTTO, TITO (NPC)</th><th>60. TAPADO, MICHAEL BONGBONG (PM)</th><th>61. TOLENTINO, FRANCIS TOL (PFP)</th><th>62. TULFO, BEN BITAG (IND)</th><th>63. TULFO, ERWIN (LAKAS)</th><th>64. VALBUENA, MAR MANIBELA (IND)</th><th>65. VERCELES, LEANDRO (IND)</th><th>66. VILLAR, CAMILLE (NP)</th></tr><tr><td>str</td><td>str</td><td>str</td><td>str</td><td>str</td><td>i64</td><td>i64</td><td>i64</td><td>i64</td><td>i64</td><td>i64</td><td>i64</td><td>i64</td><td>i64</td><td>i64</td><td>i64</td><td>i64</td><td>i64</td><td>i64</td><td>i64</td><td>i64</td><td>i64</td><td>i64</td><td>i64</td><td>i64</td><td>i64</td><td>i64</td><td>i64</td><td>i64</td><td>i64</td><td>i64</td><td>i64</td><td>i64</td><td>i64</td><td>i64</td><td>i64</td><td>i64</td><td>&hellip;</td><td>i64</td><td>i64</td><td>i64</td><td>i64</td><td>i64</td><td>i64</td><td>i64</td><td>i64</td><td>i64</td><td>i64</td><td>i64</td><td>i64</td><td>i64</td><td>i64</td><td>i64</td><td>i64</td><td>i64</td><td>i64</td><td>i64</td><td>i64</td><td>i64</td><td>i64</td><td>i64</td><td>i64</td><td>i64</td><td>i64</td><td>i64</td><td>i64</td><td>i64</td><td>i64</td><td>i64</td><td>i64</td><td>i64</td><td>i64</td><td>i64</td><td>i64</td><td>i64</td></tr></thead><tbody><tr><td>&quot;REGION I&quot;</td><td>&quot;PANGASINAN&quot;</td><td>&quot;CALASIAO&quot;</td><td>&quot;NALSIAN&quot;</td><td>&quot;55170067&quot;</td><td>862</td><td>645</td><td>776</td><td>252</td><td>1897</td><td>10344</td><td>5591</td><td>151</td><td>8</td><td>5</td><td>21</td><td>404</td><td>137</td><td>12</td><td>72</td><td>106</td><td>41</td><td>95</td><td>166</td><td>138</td><td>6</td><td>7</td><td>125</td><td>83</td><td>132</td><td>15</td><td>60</td><td>122</td><td>140</td><td>15</td><td>14</td><td>221</td><td>&hellip;</td><td>29</td><td>59</td><td>9</td><td>213</td><td>92</td><td>126</td><td>9</td><td>11</td><td>96</td><td>133</td><td>19</td><td>10</td><td>26</td><td>111</td><td>118</td><td>253</td><td>5</td><td>3</td><td>11</td><td>129</td><td>118</td><td>337</td><td>52</td><td>18</td><td>140</td><td>83</td><td>70</td><td>0</td><td>49</td><td>176</td><td>4</td><td>83</td><td>158</td><td>194</td><td>7</td><td>6</td><td>110</td></tr><tr><td>&quot;REGION I&quot;</td><td>&quot;PANGASINAN&quot;</td><td>&quot;CALASIAO&quot;</td><td>&quot;TALIBAEW&quot;</td><td>&quot;55170088&quot;</td><td>821</td><td>677</td><td>719</td><td>336</td><td>2457</td><td>9852</td><td>5331</td><td>179</td><td>11</td><td>5</td><td>12</td><td>318</td><td>71</td><td>10</td><td>54</td><td>165</td><td>58</td><td>172</td><td>155</td><td>68</td><td>3</td><td>3</td><td>65</td><td>40</td><td>211</td><td>12</td><td>51</td><td>60</td><td>155</td><td>21</td><td>8</td><td>117</td><td>&hellip;</td><td>29</td><td>59</td><td>3</td><td>182</td><td>117</td><td>163</td><td>6</td><td>10</td><td>120</td><td>169</td><td>19</td><td>7</td><td>33</td><td>51</td><td>68</td><td>159</td><td>13</td><td>0</td><td>3</td><td>112</td><td>124</td><td>250</td><td>35</td><td>23</td><td>81</td><td>126</td><td>56</td><td>3</td><td>63</td><td>250</td><td>7</td><td>80</td><td>178</td><td>251</td><td>4</td><td>3</td><td>179</td></tr><tr><td>&quot;REGION I&quot;</td><td>&quot;PANGASINAN&quot;</td><td>&quot;BINMALEY&quot;</td><td>&quot;LINOC&quot;</td><td>&quot;55130045&quot;</td><td>932</td><td>767</td><td>817</td><td>312</td><td>2461</td><td>11184</td><td>6431</td><td>347</td><td>9</td><td>5</td><td>5</td><td>341</td><td>67</td><td>18</td><td>33</td><td>220</td><td>59</td><td>145</td><td>214</td><td>72</td><td>5</td><td>10</td><td>82</td><td>48</td><td>260</td><td>1</td><td>49</td><td>85</td><td>192</td><td>3</td><td>13</td><td>103</td><td>&hellip;</td><td>38</td><td>91</td><td>7</td><td>262</td><td>155</td><td>237</td><td>4</td><td>2</td><td>138</td><td>203</td><td>23</td><td>12</td><td>40</td><td>75</td><td>64</td><td>163</td><td>10</td><td>4</td><td>4</td><td>148</td><td>152</td><td>267</td><td>66</td><td>23</td><td>75</td><td>170</td><td>62</td><td>8</td><td>78</td><td>289</td><td>9</td><td>122</td><td>228</td><td>315</td><td>6</td><td>6</td><td>190</td></tr><tr><td>&quot;REGION I&quot;</td><td>&quot;PANGASINAN&quot;</td><td>&quot;BINALONAN&quot;</td><td>&quot;STA. CATALINA&quot;</td><td>&quot;55120045&quot;</td><td>662</td><td>592</td><td>625</td><td>120</td><td>3016</td><td>7944</td><td>3968</td><td>209</td><td>2</td><td>4</td><td>3</td><td>125</td><td>31</td><td>3</td><td>22</td><td>193</td><td>22</td><td>248</td><td>104</td><td>31</td><td>2</td><td>3</td><td>24</td><td>20</td><td>215</td><td>6</td><td>20</td><td>24</td><td>154</td><td>6</td><td>4</td><td>41</td><td>&hellip;</td><td>5</td><td>33</td><td>0</td><td>94</td><td>51</td><td>238</td><td>6</td><td>2</td><td>134</td><td>266</td><td>8</td><td>3</td><td>6</td><td>28</td><td>27</td><td>47</td><td>6</td><td>4</td><td>0</td><td>41</td><td>154</td><td>96</td><td>26</td><td>9</td><td>32</td><td>70</td><td>16</td><td>1</td><td>36</td><td>125</td><td>3</td><td>164</td><td>119</td><td>163</td><td>1</td><td>0</td><td>176</td></tr><tr><td>&quot;REGION I&quot;</td><td>&quot;PANGASINAN&quot;</td><td>&quot;BAYAMBANG&quot;</td><td>&quot;TAMPOG&quot;</td><td>&quot;55110109&quot;</td><td>960</td><td>788</td><td>852</td><td>480</td><td>2469</td><td>11520</td><td>6507</td><td>316</td><td>11</td><td>9</td><td>10</td><td>334</td><td>60</td><td>16</td><td>43</td><td>230</td><td>46</td><td>234</td><td>161</td><td>63</td><td>8</td><td>17</td><td>60</td><td>34</td><td>259</td><td>18</td><td>28</td><td>49</td><td>171</td><td>14</td><td>16</td><td>90</td><td>&hellip;</td><td>17</td><td>82</td><td>19</td><td>264</td><td>118</td><td>307</td><td>9</td><td>11</td><td>159</td><td>272</td><td>13</td><td>38</td><td>25</td><td>55</td><td>62</td><td>102</td><td>10</td><td>5</td><td>4</td><td>117</td><td>193</td><td>250</td><td>35</td><td>58</td><td>57</td><td>209</td><td>45</td><td>4</td><td>82</td><td>292</td><td>15</td><td>102</td><td>295</td><td>333</td><td>9</td><td>5</td><td>239</td></tr></tbody></table></div>"
     },
     "execution_count": 10,
     "metadata": {},
     "output_type": "execute_result"
    }
   ],
   "source": [
    "senate_df = pl.scan_csv(\"senate25-final_updated.csv\", schema_overrides={\"machineId\":pl.String})\n",
    "senate_df.head().collect()"
   ],
   "metadata": {
    "collapsed": false,
    "ExecuteTime": {
     "end_time": "2025-07-10T17:52:42.365220100Z",
     "start_time": "2025-07-10T17:52:42.306423600Z"
    }
   },
   "id": "d544c738495571ae"
  },
  {
   "cell_type": "code",
   "execution_count": 11,
   "outputs": [],
   "source": [
    "# Checking for discrpancies:\n",
    "\n",
    "senate_df_with_discrepancy = senate_df.with_columns(\n",
    "    registered_votes = pl.sum_horizontal(cs.ends_with(\")\"))\n",
    ").with_columns(\n",
    "    error_votes = pl.col(\"validVotes\") - pl.col(\"registered_votes\")\n",
    ").select(~cs.ends_with(\")\"))"
   ],
   "metadata": {
    "collapsed": false,
    "ExecuteTime": {
     "end_time": "2025-07-10T17:52:46.086459Z",
     "start_time": "2025-07-10T17:52:46.064077800Z"
    }
   },
   "id": "5bf57e985818f19c"
  },
  {
   "cell_type": "code",
   "execution_count": 12,
   "outputs": [
    {
     "data": {
      "text/plain": "shape: (5, 14)\n┌──────────┬───────────┬───────────┬───────────┬───┬───────────┬───────────┬───────────┬───────────┐\n│ region   ┆ province  ┆ municipal ┆ barangay  ┆ … ┆ validVote ┆ obtainedV ┆ registere ┆ error_vot │\n│ ---      ┆ ---       ┆ ity       ┆ ---       ┆   ┆ s         ┆ otes      ┆ d_votes   ┆ es        │\n│ str      ┆ str       ┆ ---       ┆ str       ┆   ┆ ---       ┆ ---       ┆ ---       ┆ ---       │\n│          ┆           ┆ str       ┆           ┆   ┆ i64       ┆ i64       ┆ i64       ┆ i64       │\n╞══════════╪═══════════╪═══════════╪═══════════╪═══╪═══════════╪═══════════╪═══════════╪═══════════╡\n│ REGION I ┆ PANGASINA ┆ CALASIAO  ┆ NALSIAN   ┆ … ┆ 10344     ┆ 5591      ┆ 5591      ┆ 4753      │\n│          ┆ N         ┆           ┆           ┆   ┆           ┆           ┆           ┆           │\n│ REGION I ┆ PANGASINA ┆ CALASIAO  ┆ TALIBAEW  ┆ … ┆ 9852      ┆ 5331      ┆ 5331      ┆ 4521      │\n│          ┆ N         ┆           ┆           ┆   ┆           ┆           ┆           ┆           │\n│ REGION I ┆ PANGASINA ┆ BINMALEY  ┆ LINOC     ┆ … ┆ 11184     ┆ 6431      ┆ 6431      ┆ 4753      │\n│          ┆ N         ┆           ┆           ┆   ┆           ┆           ┆           ┆           │\n│ REGION I ┆ PANGASINA ┆ BINALONAN ┆ STA.      ┆ … ┆ 7944      ┆ 3968      ┆ 3968      ┆ 3976      │\n│          ┆ N         ┆           ┆ CATALINA  ┆   ┆           ┆           ┆           ┆           │\n│ REGION I ┆ PANGASINA ┆ BAYAMBANG ┆ TAMPOG    ┆ … ┆ 11520     ┆ 6507      ┆ 6507      ┆ 5013      │\n│          ┆ N         ┆           ┆           ┆   ┆           ┆           ┆           ┆           │\n└──────────┴───────────┴───────────┴───────────┴───┴───────────┴───────────┴───────────┴───────────┘",
      "text/html": "<div><style>\n.dataframe > thead > tr,\n.dataframe > tbody > tr {\n  text-align: right;\n  white-space: pre-wrap;\n}\n</style>\n<small>shape: (5, 14)</small><table border=\"1\" class=\"dataframe\"><thead><tr><th>region</th><th>province</th><th>municipality</th><th>barangay</th><th>machineId</th><th>registeredVoters</th><th>actualVoters</th><th>validBallot</th><th>overVotes</th><th>underVotes</th><th>validVotes</th><th>obtainedVotes</th><th>registered_votes</th><th>error_votes</th></tr><tr><td>str</td><td>str</td><td>str</td><td>str</td><td>str</td><td>i64</td><td>i64</td><td>i64</td><td>i64</td><td>i64</td><td>i64</td><td>i64</td><td>i64</td><td>i64</td></tr></thead><tbody><tr><td>&quot;REGION I&quot;</td><td>&quot;PANGASINAN&quot;</td><td>&quot;CALASIAO&quot;</td><td>&quot;NALSIAN&quot;</td><td>&quot;55170067&quot;</td><td>862</td><td>645</td><td>776</td><td>252</td><td>1897</td><td>10344</td><td>5591</td><td>5591</td><td>4753</td></tr><tr><td>&quot;REGION I&quot;</td><td>&quot;PANGASINAN&quot;</td><td>&quot;CALASIAO&quot;</td><td>&quot;TALIBAEW&quot;</td><td>&quot;55170088&quot;</td><td>821</td><td>677</td><td>719</td><td>336</td><td>2457</td><td>9852</td><td>5331</td><td>5331</td><td>4521</td></tr><tr><td>&quot;REGION I&quot;</td><td>&quot;PANGASINAN&quot;</td><td>&quot;BINMALEY&quot;</td><td>&quot;LINOC&quot;</td><td>&quot;55130045&quot;</td><td>932</td><td>767</td><td>817</td><td>312</td><td>2461</td><td>11184</td><td>6431</td><td>6431</td><td>4753</td></tr><tr><td>&quot;REGION I&quot;</td><td>&quot;PANGASINAN&quot;</td><td>&quot;BINALONAN&quot;</td><td>&quot;STA. CATALINA&quot;</td><td>&quot;55120045&quot;</td><td>662</td><td>592</td><td>625</td><td>120</td><td>3016</td><td>7944</td><td>3968</td><td>3968</td><td>3976</td></tr><tr><td>&quot;REGION I&quot;</td><td>&quot;PANGASINAN&quot;</td><td>&quot;BAYAMBANG&quot;</td><td>&quot;TAMPOG&quot;</td><td>&quot;55110109&quot;</td><td>960</td><td>788</td><td>852</td><td>480</td><td>2469</td><td>11520</td><td>6507</td><td>6507</td><td>5013</td></tr></tbody></table></div>"
     },
     "execution_count": 12,
     "metadata": {},
     "output_type": "execute_result"
    }
   ],
   "source": [
    "senate_df_with_discrepancy.head().collect()"
   ],
   "metadata": {
    "collapsed": false,
    "ExecuteTime": {
     "end_time": "2025-07-10T17:52:49.512205600Z",
     "start_time": "2025-07-10T17:52:49.483436800Z"
    }
   },
   "id": "a95a1f423e821122"
  },
  {
   "cell_type": "code",
   "execution_count": 13,
   "outputs": [
    {
     "data": {
      "text/plain": "shape: (36, 8)\n┌────────┬────────────┬────────────┬────────────┬───────────┬────────────┬────────────┬────────────┐\n│ region ┆ province   ┆ municipali ┆ barangay   ┆ machineId ┆ validVotes ┆ registered ┆ error_vote │\n│ ---    ┆ ---        ┆ ty         ┆ ---        ┆ ---       ┆ ---        ┆ _votes     ┆ s          │\n│ str    ┆ str        ┆ ---        ┆ str        ┆ str       ┆ i64        ┆ ---        ┆ ---        │\n│        ┆            ┆ str        ┆            ┆           ┆            ┆ i64        ┆ i64        │\n╞════════╪════════════╪════════════╪════════════╪═══════════╪════════════╪════════════╪════════════╡\n│ OAV    ┆ EUROPE     ┆ THE NETHER ┆ THE HAGUE  ┆ 93170004  ┆ 36         ┆ 36         ┆ 0          │\n│        ┆            ┆ LANDS      ┆ PE         ┆           ┆            ┆            ┆            │\n│ OAV    ┆ EUROPE     ┆ THE NETHER ┆ THE HAGUE  ┆ 93170003  ┆ 0          ┆ 0          ┆ 0          │\n│        ┆            ┆ LANDS      ┆ PE         ┆           ┆            ┆            ┆            │\n│ OAV    ┆ EUROPE     ┆ THE NETHER ┆ THE HAGUE  ┆ 93170002  ┆ 0          ┆ 0          ┆ 0          │\n│        ┆            ┆ LANDS      ┆ PE         ┆           ┆            ┆            ┆            │\n│ OAV    ┆ EUROPE     ┆ ITALY      ┆ ROME PE    ┆ 93150004  ┆ 0          ┆ 0          ┆ 0          │\n│ OAV    ┆ EUROPE     ┆ FRANCE     ┆ PARIS PE   ┆ 93130002  ┆ 12         ┆ 12         ┆ 0          │\n│ …      ┆ …          ┆ …          ┆ …          ┆ …         ┆ …          ┆ …          ┆ …          │\n│ OAV    ┆ NORTH AND  ┆ UNITED     ┆ WASHINGTON ┆ 91060014  ┆ 0          ┆ 0          ┆ 0          │\n│        ┆ LATIN      ┆ STATES OF  ┆ D.C. PE    ┆           ┆            ┆            ┆            │\n│        ┆ AMERICAS   ┆ AMERICA    ┆            ┆           ┆            ┆            ┆            │\n│ OAV    ┆ NORTH AND  ┆ UNITED     ┆ WASHINGTON ┆ 91060002  ┆ 0          ┆ 0          ┆ 0          │\n│        ┆ LATIN      ┆ STATES OF  ┆ D.C. PE    ┆           ┆            ┆            ┆            │\n│        ┆ AMERICAS   ┆ AMERICA    ┆            ┆           ┆            ┆            ┆            │\n│ OAV    ┆ NORTH AND  ┆ ARGENTINA  ┆ BUENOS     ┆ 91020003  ┆ 0          ┆ 0          ┆ 0          │\n│        ┆ LATIN      ┆            ┆ AIRES PE   ┆           ┆            ┆            ┆            │\n│        ┆ AMERICAS   ┆            ┆            ┆           ┆            ┆            ┆            │\n│ OAV    ┆ NORTH AND  ┆ ARGENTINA  ┆ BUENOS     ┆ 91020002  ┆ 96         ┆ 96         ┆ 0          │\n│        ┆ LATIN      ┆            ┆ AIRES PE   ┆           ┆            ┆            ┆            │\n│        ┆ AMERICAS   ┆            ┆            ┆           ┆            ┆            ┆            │\n│ OAV    ┆ NORTH AND  ┆ MEXICO     ┆ MEXICO PE  ┆ 91030005  ┆ 0          ┆ 0          ┆ 0          │\n│        ┆ LATIN      ┆            ┆            ┆           ┆            ┆            ┆            │\n│        ┆ AMERICAS   ┆            ┆            ┆           ┆            ┆            ┆            │\n└────────┴────────────┴────────────┴────────────┴───────────┴────────────┴────────────┴────────────┘",
      "text/html": "<div><style>\n.dataframe > thead > tr,\n.dataframe > tbody > tr {\n  text-align: right;\n  white-space: pre-wrap;\n}\n</style>\n<small>shape: (36, 8)</small><table border=\"1\" class=\"dataframe\"><thead><tr><th>region</th><th>province</th><th>municipality</th><th>barangay</th><th>machineId</th><th>validVotes</th><th>registered_votes</th><th>error_votes</th></tr><tr><td>str</td><td>str</td><td>str</td><td>str</td><td>str</td><td>i64</td><td>i64</td><td>i64</td></tr></thead><tbody><tr><td>&quot;OAV&quot;</td><td>&quot;EUROPE&quot;</td><td>&quot;THE NETHERLANDS&quot;</td><td>&quot;THE HAGUE PE&quot;</td><td>&quot;93170004&quot;</td><td>36</td><td>36</td><td>0</td></tr><tr><td>&quot;OAV&quot;</td><td>&quot;EUROPE&quot;</td><td>&quot;THE NETHERLANDS&quot;</td><td>&quot;THE HAGUE PE&quot;</td><td>&quot;93170003&quot;</td><td>0</td><td>0</td><td>0</td></tr><tr><td>&quot;OAV&quot;</td><td>&quot;EUROPE&quot;</td><td>&quot;THE NETHERLANDS&quot;</td><td>&quot;THE HAGUE PE&quot;</td><td>&quot;93170002&quot;</td><td>0</td><td>0</td><td>0</td></tr><tr><td>&quot;OAV&quot;</td><td>&quot;EUROPE&quot;</td><td>&quot;ITALY&quot;</td><td>&quot;ROME PE&quot;</td><td>&quot;93150004&quot;</td><td>0</td><td>0</td><td>0</td></tr><tr><td>&quot;OAV&quot;</td><td>&quot;EUROPE&quot;</td><td>&quot;FRANCE&quot;</td><td>&quot;PARIS PE&quot;</td><td>&quot;93130002&quot;</td><td>12</td><td>12</td><td>0</td></tr><tr><td>&hellip;</td><td>&hellip;</td><td>&hellip;</td><td>&hellip;</td><td>&hellip;</td><td>&hellip;</td><td>&hellip;</td><td>&hellip;</td></tr><tr><td>&quot;OAV&quot;</td><td>&quot;NORTH AND LATIN AMERICAS&quot;</td><td>&quot;UNITED STATES OF AMERICA&quot;</td><td>&quot;WASHINGTON D.C. PE&quot;</td><td>&quot;91060014&quot;</td><td>0</td><td>0</td><td>0</td></tr><tr><td>&quot;OAV&quot;</td><td>&quot;NORTH AND LATIN AMERICAS&quot;</td><td>&quot;UNITED STATES OF AMERICA&quot;</td><td>&quot;WASHINGTON D.C. PE&quot;</td><td>&quot;91060002&quot;</td><td>0</td><td>0</td><td>0</td></tr><tr><td>&quot;OAV&quot;</td><td>&quot;NORTH AND LATIN AMERICAS&quot;</td><td>&quot;ARGENTINA&quot;</td><td>&quot;BUENOS AIRES PE&quot;</td><td>&quot;91020003&quot;</td><td>0</td><td>0</td><td>0</td></tr><tr><td>&quot;OAV&quot;</td><td>&quot;NORTH AND LATIN AMERICAS&quot;</td><td>&quot;ARGENTINA&quot;</td><td>&quot;BUENOS AIRES PE&quot;</td><td>&quot;91020002&quot;</td><td>96</td><td>96</td><td>0</td></tr><tr><td>&quot;OAV&quot;</td><td>&quot;NORTH AND LATIN AMERICAS&quot;</td><td>&quot;MEXICO&quot;</td><td>&quot;MEXICO PE&quot;</td><td>&quot;91030005&quot;</td><td>0</td><td>0</td><td>0</td></tr></tbody></table></div>"
     },
     "execution_count": 13,
     "metadata": {},
     "output_type": "execute_result"
    }
   ],
   "source": [
    "(\n",
    "    senate_df_with_discrepancy\n",
    "    .select(\"region\", \"province\", \"municipality\", \"barangay\", \"machineId\", \"validVotes\", \"registered_votes\",\"error_votes\")\n",
    "    .filter(pl.col(\"error_votes\") == 0 ).collect()\n",
    ")"
   ],
   "metadata": {
    "collapsed": false,
    "ExecuteTime": {
     "end_time": "2025-07-10T17:52:54.692732400Z",
     "start_time": "2025-07-10T17:52:54.585405200Z"
    }
   },
   "id": "eeb7646cadae8044"
  },
  {
   "cell_type": "code",
   "execution_count": 18,
   "outputs": [],
   "source": [
    "senate_df_with_discrepancy.sink_csv(\"senate_2025_voters_data.csv\")"
   ],
   "metadata": {
    "collapsed": false,
    "ExecuteTime": {
     "end_time": "2025-07-10T17:53:42.280990500Z",
     "start_time": "2025-07-10T17:53:42.132894100Z"
    }
   },
   "id": "b303db72fd8a2fe2"
  },
  {
   "cell_type": "code",
   "execution_count": 14,
   "outputs": [],
   "source": [
    "unpivot_senate_df = senate_df.unpivot(\n",
    "    cs.ends_with(\")\"), \n",
    "    index=[ \"region\", \"province\", \"municipality\", \"barangay\", \"machineId\"],\n",
    "    variable_name=\"candidate\",\n",
    "    value_name=\"registered_votes\"\n",
    ")"
   ],
   "metadata": {
    "collapsed": false,
    "ExecuteTime": {
     "end_time": "2025-07-10T17:52:55.506125400Z",
     "start_time": "2025-07-10T17:52:55.490259600Z"
    }
   },
   "id": "d40ecee8c2f76c45"
  },
  {
   "cell_type": "code",
   "execution_count": 15,
   "outputs": [
    {
     "data": {
      "text/plain": "shape: (5, 7)\n┌──────────┬────────────┬──────────────┬───────────────┬───────────┬───────────────┬───────────────┐\n│ region   ┆ province   ┆ municipality ┆ barangay      ┆ machineId ┆ candidate     ┆ registered_vo │\n│ ---      ┆ ---        ┆ ---          ┆ ---           ┆ ---       ┆ ---           ┆ tes           │\n│ str      ┆ str        ┆ str          ┆ str           ┆ str       ┆ str           ┆ ---           │\n│          ┆            ┆              ┆               ┆           ┆               ┆ i64           │\n╞══════════╪════════════╪══════════════╪═══════════════╪═══════════╪═══════════════╪═══════════════╡\n│ REGION I ┆ PANGASINAN ┆ CALASIAO     ┆ NALSIAN       ┆ 55170067  ┆ 1. ABALOS,    ┆ 151           │\n│          ┆            ┆              ┆               ┆           ┆ BENHUR (PFP)  ┆               │\n│ REGION I ┆ PANGASINAN ┆ CALASIAO     ┆ TALIBAEW      ┆ 55170088  ┆ 1. ABALOS,    ┆ 179           │\n│          ┆            ┆              ┆               ┆           ┆ BENHUR (PFP)  ┆               │\n│ REGION I ┆ PANGASINAN ┆ BINMALEY     ┆ LINOC         ┆ 55130045  ┆ 1. ABALOS,    ┆ 347           │\n│          ┆            ┆              ┆               ┆           ┆ BENHUR (PFP)  ┆               │\n│ REGION I ┆ PANGASINAN ┆ BINALONAN    ┆ STA. CATALINA ┆ 55120045  ┆ 1. ABALOS,    ┆ 209           │\n│          ┆            ┆              ┆               ┆           ┆ BENHUR (PFP)  ┆               │\n│ REGION I ┆ PANGASINAN ┆ BAYAMBANG    ┆ TAMPOG        ┆ 55110109  ┆ 1. ABALOS,    ┆ 316           │\n│          ┆            ┆              ┆               ┆           ┆ BENHUR (PFP)  ┆               │\n└──────────┴────────────┴──────────────┴───────────────┴───────────┴───────────────┴───────────────┘",
      "text/html": "<div><style>\n.dataframe > thead > tr,\n.dataframe > tbody > tr {\n  text-align: right;\n  white-space: pre-wrap;\n}\n</style>\n<small>shape: (5, 7)</small><table border=\"1\" class=\"dataframe\"><thead><tr><th>region</th><th>province</th><th>municipality</th><th>barangay</th><th>machineId</th><th>candidate</th><th>registered_votes</th></tr><tr><td>str</td><td>str</td><td>str</td><td>str</td><td>str</td><td>str</td><td>i64</td></tr></thead><tbody><tr><td>&quot;REGION I&quot;</td><td>&quot;PANGASINAN&quot;</td><td>&quot;CALASIAO&quot;</td><td>&quot;NALSIAN&quot;</td><td>&quot;55170067&quot;</td><td>&quot;1. ABALOS, BENHUR (PFP)&quot;</td><td>151</td></tr><tr><td>&quot;REGION I&quot;</td><td>&quot;PANGASINAN&quot;</td><td>&quot;CALASIAO&quot;</td><td>&quot;TALIBAEW&quot;</td><td>&quot;55170088&quot;</td><td>&quot;1. ABALOS, BENHUR (PFP)&quot;</td><td>179</td></tr><tr><td>&quot;REGION I&quot;</td><td>&quot;PANGASINAN&quot;</td><td>&quot;BINMALEY&quot;</td><td>&quot;LINOC&quot;</td><td>&quot;55130045&quot;</td><td>&quot;1. ABALOS, BENHUR (PFP)&quot;</td><td>347</td></tr><tr><td>&quot;REGION I&quot;</td><td>&quot;PANGASINAN&quot;</td><td>&quot;BINALONAN&quot;</td><td>&quot;STA. CATALINA&quot;</td><td>&quot;55120045&quot;</td><td>&quot;1. ABALOS, BENHUR (PFP)&quot;</td><td>209</td></tr><tr><td>&quot;REGION I&quot;</td><td>&quot;PANGASINAN&quot;</td><td>&quot;BAYAMBANG&quot;</td><td>&quot;TAMPOG&quot;</td><td>&quot;55110109&quot;</td><td>&quot;1. ABALOS, BENHUR (PFP)&quot;</td><td>316</td></tr></tbody></table></div>"
     },
     "execution_count": 15,
     "metadata": {},
     "output_type": "execute_result"
    }
   ],
   "source": [
    "unpivot_senate_df.head().collect()"
   ],
   "metadata": {
    "collapsed": false,
    "ExecuteTime": {
     "end_time": "2025-07-10T17:52:56.929423200Z",
     "start_time": "2025-07-10T17:52:56.648706600Z"
    }
   },
   "id": "7f950cf0cd6ec902"
  },
  {
   "cell_type": "code",
   "execution_count": 16,
   "outputs": [],
   "source": [
    "cleaned_unpivot_senate_df = unpivot_senate_df.with_columns(\n",
    "    pl.col(\"candidate\")\n",
    "    .str.replace(r\"[0-9]*\\.\\s\", \"\")\n",
    "    .str.replace(r\"\\)\", \"\")\n",
    "    .str.split(\"(\")\n",
    "    .list.to_struct(fields=[\"candidate\", \"political_party\"])\n",
    ").unnest(\"candidate\").with_columns(\n",
    "    pl.col(\"candidate\").str.strip_chars().str.to_uppercase()\n",
    ")"
   ],
   "metadata": {
    "collapsed": false,
    "ExecuteTime": {
     "end_time": "2025-07-10T17:52:59.131178800Z",
     "start_time": "2025-07-10T17:52:59.120722500Z"
    }
   },
   "id": "bcf68639bc8bcfc3"
  },
  {
   "cell_type": "code",
   "execution_count": 17,
   "outputs": [
    {
     "data": {
      "text/plain": "shape: (5, 8)\n┌──────────┬────────────┬────────────┬────────────┬───────────┬────────────┬───────────┬───────────┐\n│ region   ┆ province   ┆ municipali ┆ barangay   ┆ machineId ┆ candidate  ┆ political ┆ registere │\n│ ---      ┆ ---        ┆ ty         ┆ ---        ┆ ---       ┆ ---        ┆ _party    ┆ d_votes   │\n│ str      ┆ str        ┆ ---        ┆ str        ┆ str       ┆ str        ┆ ---       ┆ ---       │\n│          ┆            ┆ str        ┆            ┆           ┆            ┆ str       ┆ i64       │\n╞══════════╪════════════╪════════════╪════════════╪═══════════╪════════════╪═══════════╪═══════════╡\n│ REGION I ┆ PANGASINAN ┆ CALASIAO   ┆ NALSIAN    ┆ 55170067  ┆ ABALOS,    ┆ PFP       ┆ 151       │\n│          ┆            ┆            ┆            ┆           ┆ BENHUR     ┆           ┆           │\n│ REGION I ┆ PANGASINAN ┆ CALASIAO   ┆ TALIBAEW   ┆ 55170088  ┆ ABALOS,    ┆ PFP       ┆ 179       │\n│          ┆            ┆            ┆            ┆           ┆ BENHUR     ┆           ┆           │\n│ REGION I ┆ PANGASINAN ┆ BINMALEY   ┆ LINOC      ┆ 55130045  ┆ ABALOS,    ┆ PFP       ┆ 347       │\n│          ┆            ┆            ┆            ┆           ┆ BENHUR     ┆           ┆           │\n│ REGION I ┆ PANGASINAN ┆ BINALONAN  ┆ STA.       ┆ 55120045  ┆ ABALOS,    ┆ PFP       ┆ 209       │\n│          ┆            ┆            ┆ CATALINA   ┆           ┆ BENHUR     ┆           ┆           │\n│ REGION I ┆ PANGASINAN ┆ BAYAMBANG  ┆ TAMPOG     ┆ 55110109  ┆ ABALOS,    ┆ PFP       ┆ 316       │\n│          ┆            ┆            ┆            ┆           ┆ BENHUR     ┆           ┆           │\n└──────────┴────────────┴────────────┴────────────┴───────────┴────────────┴───────────┴───────────┘",
      "text/html": "<div><style>\n.dataframe > thead > tr,\n.dataframe > tbody > tr {\n  text-align: right;\n  white-space: pre-wrap;\n}\n</style>\n<small>shape: (5, 8)</small><table border=\"1\" class=\"dataframe\"><thead><tr><th>region</th><th>province</th><th>municipality</th><th>barangay</th><th>machineId</th><th>candidate</th><th>political_party</th><th>registered_votes</th></tr><tr><td>str</td><td>str</td><td>str</td><td>str</td><td>str</td><td>str</td><td>str</td><td>i64</td></tr></thead><tbody><tr><td>&quot;REGION I&quot;</td><td>&quot;PANGASINAN&quot;</td><td>&quot;CALASIAO&quot;</td><td>&quot;NALSIAN&quot;</td><td>&quot;55170067&quot;</td><td>&quot;ABALOS, BENHUR&quot;</td><td>&quot;PFP&quot;</td><td>151</td></tr><tr><td>&quot;REGION I&quot;</td><td>&quot;PANGASINAN&quot;</td><td>&quot;CALASIAO&quot;</td><td>&quot;TALIBAEW&quot;</td><td>&quot;55170088&quot;</td><td>&quot;ABALOS, BENHUR&quot;</td><td>&quot;PFP&quot;</td><td>179</td></tr><tr><td>&quot;REGION I&quot;</td><td>&quot;PANGASINAN&quot;</td><td>&quot;BINMALEY&quot;</td><td>&quot;LINOC&quot;</td><td>&quot;55130045&quot;</td><td>&quot;ABALOS, BENHUR&quot;</td><td>&quot;PFP&quot;</td><td>347</td></tr><tr><td>&quot;REGION I&quot;</td><td>&quot;PANGASINAN&quot;</td><td>&quot;BINALONAN&quot;</td><td>&quot;STA. CATALINA&quot;</td><td>&quot;55120045&quot;</td><td>&quot;ABALOS, BENHUR&quot;</td><td>&quot;PFP&quot;</td><td>209</td></tr><tr><td>&quot;REGION I&quot;</td><td>&quot;PANGASINAN&quot;</td><td>&quot;BAYAMBANG&quot;</td><td>&quot;TAMPOG&quot;</td><td>&quot;55110109&quot;</td><td>&quot;ABALOS, BENHUR&quot;</td><td>&quot;PFP&quot;</td><td>316</td></tr></tbody></table></div>"
     },
     "execution_count": 17,
     "metadata": {},
     "output_type": "execute_result"
    }
   ],
   "source": [
    "cleaned_unpivot_senate_df.head().collect()"
   ],
   "metadata": {
    "collapsed": false,
    "ExecuteTime": {
     "end_time": "2025-07-10T17:53:00.621751200Z",
     "start_time": "2025-07-10T17:53:00.369010300Z"
    }
   },
   "id": "571342f3d58a52b9"
  },
  {
   "cell_type": "code",
   "execution_count": 19,
   "outputs": [],
   "source": [
    "cleaned_unpivot_senate_df.sink_csv(\"senate_2025_candidate_voters_data.csv\")"
   ],
   "metadata": {
    "collapsed": false,
    "ExecuteTime": {
     "end_time": "2025-07-10T17:54:14.598342400Z",
     "start_time": "2025-07-10T17:54:13.254354Z"
    }
   },
   "id": "2e3e4a040becc160"
  }
 ],
 "metadata": {
  "kernelspec": {
   "display_name": "Python 3",
   "language": "python",
   "name": "python3"
  },
  "language_info": {
   "codemirror_mode": {
    "name": "ipython",
    "version": 2
   },
   "file_extension": ".py",
   "mimetype": "text/x-python",
   "name": "python",
   "nbconvert_exporter": "python",
   "pygments_lexer": "ipython2",
   "version": "2.7.6"
  }
 },
 "nbformat": 4,
 "nbformat_minor": 5
}
